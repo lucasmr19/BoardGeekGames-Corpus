{
 "cells": [
  {
   "cell_type": "code",
   "execution_count": 3,
   "id": "de2a13e3",
   "metadata": {},
   "outputs": [],
   "source": [
    "#!/usr/bin/env python3\n",
    "import json\n",
    "from collections import defaultdict\n",
    "\n",
    "def tipo_valor(v):\n",
    "    if v is None:\n",
    "        return \"null\"\n",
    "    if isinstance(v, bool):\n",
    "        return \"bool\"\n",
    "    if isinstance(v, int) and not isinstance(v, bool):\n",
    "        return \"int\"\n",
    "    if isinstance(v, float):\n",
    "        return \"float\"\n",
    "    if isinstance(v, str):\n",
    "        return \"str\"\n",
    "    if isinstance(v, list):\n",
    "        return \"list\"\n",
    "    if isinstance(v, dict):\n",
    "        return \"dict\"\n",
    "    return type(v).__name__\n",
    "\n",
    "def recorrer(obj, path, skeleton):\n",
    "    t = tipo_valor(obj)\n",
    "    skeleton[path]['types'][t] += 1\n",
    "    skeleton[path]['count'] += 1\n",
    "\n",
    "    if isinstance(obj, dict):\n",
    "        for k, v in obj.items():\n",
    "            newp = f\"{path}.{k}\" if path else k\n",
    "            recorrer(v, newp, skeleton)\n",
    "    elif isinstance(obj, list):\n",
    "        list_path = f\"{path}[]\" if path else \"[]\"\n",
    "        for item in obj:\n",
    "            recorrer(item, list_path, skeleton)\n",
    "\n",
    "def extraer_esqueleto(file_in, file_out):\n",
    "    with open(file_in, \"r\", encoding=\"utf-8\") as f:\n",
    "        data = json.load(f)\n",
    "\n",
    "    skeleton = defaultdict(lambda: {\"types\": defaultdict(int), \"count\": 0})\n",
    "\n",
    "    if isinstance(data, list):\n",
    "        for juego in data:\n",
    "            recorrer(juego, \"\", skeleton)\n",
    "    elif isinstance(data, dict):\n",
    "        recorrer(data, \"\", skeleton)\n",
    "\n",
    "    # Convertir tipos a dict normal para JSON\n",
    "    out = {k: {\"types\": dict(v[\"types\"]), \"count\": v[\"count\"]} for k,v in skeleton.items()}\n",
    "\n",
    "    with open(file_out, \"w\", encoding=\"utf-8\") as f:\n",
    "        json.dump(out, f, ensure_ascii=False, indent=2)\n",
    "\n",
    "# Uso\n",
    "extraer_esqueleto(\"bgg_corpus.json\", \"esqueleto.json\")"
   ]
  },
  {
   "cell_type": "code",
   "execution_count": null,
   "id": "01820444",
   "metadata": {},
   "outputs": [],
   "source": []
  }
 ],
 "metadata": {
  "kernelspec": {
   "display_name": "Python 3",
   "language": "python",
   "name": "python3"
  },
  "language_info": {
   "codemirror_mode": {
    "name": "ipython",
    "version": 3
   },
   "file_extension": ".py",
   "mimetype": "text/x-python",
   "name": "python",
   "nbconvert_exporter": "python",
   "pygments_lexer": "ipython3",
   "version": "3.10.11"
  }
 },
 "nbformat": 4,
 "nbformat_minor": 5
}
